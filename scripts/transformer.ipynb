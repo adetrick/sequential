{
 "cells": [
  {
   "cell_type": "code",
   "execution_count": null,
   "id": "39ae0ec4-ecb0-4b6f-8bd5-6eb4533e61e8",
   "metadata": {},
   "outputs": [],
   "source": [
    "import pandas as pd\n",
    "import numpy as np\n",
    "import matplotlib.pyplot as plt\n",
    "from sequential.preprocessing import preprocessing\n",
    "from sequential.metrics import mean_absolute_error\n",
    "from sequential.models import Transformer"
   ]
  },
  {
   "cell_type": "markdown",
   "id": "a2e649b4-ecbb-4488-b2a3-868eb20158e7",
   "metadata": {},
   "source": [
    "### Load data"
   ]
  },
  {
   "cell_type": "code",
   "execution_count": null,
   "id": "d9a6e282-5b8f-4d72-b052-45cdf1a1000e",
   "metadata": {},
   "outputs": [],
   "source": [
    "df = pd.read_csv('../data/AirPassengers.csv')\n",
    "df['Date'] = pd.to_datetime(df['Date'])\n",
    "df.set_index('Date', inplace=True)\n",
    "df.columns"
   ]
  },
  {
   "cell_type": "markdown",
   "id": "76103cdd-1aa6-4cb9-b729-67408a0173e8",
   "metadata": {},
   "source": [
    "### Preprocessing"
   ]
  },
  {
   "cell_type": "code",
   "execution_count": null,
   "id": "1a4678d3-492d-460e-b19c-ed7e9ca9cf0e",
   "metadata": {},
   "outputs": [],
   "source": [
    "val_len = 12\n",
    "time_steps = 120\n",
    "target_time_steps = 12\n",
    "\n",
    "X = df.to_numpy()\n",
    "X_orig = X\n",
    "\n",
    "X, X_train, X_test, y_train, y_test, scaler = preprocessing(X, val_len, time_steps, target_time_steps, autoregressive=True)\n",
    "\n",
    "y = scaler.transform(X_orig)[:, 0].flatten()\n",
    "\n",
    "# print the training data shape: (num_sequences, time_steps, num_features)\n",
    "X_train.shape, y_train.shape"
   ]
  },
  {
   "cell_type": "markdown",
   "id": "abdc6a69-fddd-44ff-a395-d9a475dae0c7",
   "metadata": {},
   "source": [
    "### Model fit"
   ]
  },
  {
   "cell_type": "code",
   "execution_count": null,
   "id": "9f1c1143-04ba-44b7-971d-8f6869cf11a9",
   "metadata": {
    "tags": []
   },
   "outputs": [],
   "source": [
    "%%time\n",
    "\n",
    "# set a random seed for repeatable results\n",
    "# np.random.seed(7)\n",
    "\n",
    "optimizer_args = {'alpha': .001}\n",
    "\n",
    "model = Transformer(num_decoder_layers=6, d_model=50, units=64, num_heads=1, \n",
    "                    optimizer_args=optimizer_args, normalize=False, loss='mae', \n",
    "                    drop_rate=0, apply_positional_encoding=False)\n",
    "\n",
    "fitted_val, loss = model.fit(X_train, y_train, epochs=1000, verbose_rate=100)"
   ]
  },
  {
   "cell_type": "markdown",
   "id": "181a1a78-d80a-4b07-9241-c005e0fd6878",
   "metadata": {},
   "source": [
    "### Fitted values plot"
   ]
  },
  {
   "cell_type": "code",
   "execution_count": null,
   "id": "2fd6bbf6-e48d-4c18-a263-827d0484c952",
   "metadata": {},
   "outputs": [],
   "source": [
    "plt.plot(y_train.flatten())\n",
    "plt.plot(fitted_val.flatten())\n",
    "print('Fit MAE: ', mean_absolute_error(y_train.flatten(), fitted_val.flatten()))"
   ]
  },
  {
   "cell_type": "markdown",
   "id": "cfcdd669-6320-4c72-a209-14593f6a61c4",
   "metadata": {},
   "source": [
    "### Validation forecast"
   ]
  },
  {
   "cell_type": "code",
   "execution_count": null,
   "id": "283a143e-8035-48dd-86a8-1399d57b2bbe",
   "metadata": {},
   "outputs": [],
   "source": [
    "forecast = model.get_forecast(target_time_steps, X_test).flatten()\n",
    "forecast"
   ]
  },
  {
   "cell_type": "code",
   "execution_count": null,
   "id": "de7eaf27-f2bf-42fb-b734-7243616ea9fa",
   "metadata": {},
   "outputs": [],
   "source": [
    "plt.plot(y)\n",
    "forecast_len = len(forecast)\n",
    "# create an empty array with the forecast values at the end\n",
    "forecast_array = np.zeros(len(y))\n",
    "forecast_array[:] = np.inf\n",
    "forecast_array[-forecast_len:] = forecast\n",
    "# forecast_array = np.append(forecast_array, forecast)\n",
    "# forecast_array[-test_set_length:-test_set_length + forecast_len] = forecast\n",
    "plt.plot(forecast_array)\n",
    "\n",
    "print('MAE:', mean_absolute_error(y_test, forecast[:val_len]))"
   ]
  },
  {
   "cell_type": "code",
   "execution_count": null,
   "id": "eea6a034-db7b-4e87-90d8-1b928961a9c5",
   "metadata": {},
   "outputs": [],
   "source": [
    "plt.plot(y_test)\n",
    "plt.plot(forecast[:val_len])\n",
    "print('MAE:', mean_absolute_error(y_test, forecast[:val_len]))"
   ]
  },
  {
   "cell_type": "markdown",
   "id": "98f1a431-8ab5-40d7-befe-626b193a93cd",
   "metadata": {},
   "source": [
    "### Forecast beyond historical data"
   ]
  },
  {
   "cell_type": "code",
   "execution_count": null,
   "id": "3685cfec-9195-49b5-8c21-87dc0cf207ef",
   "metadata": {},
   "outputs": [],
   "source": [
    "forecast = model.get_forecast(target_time_steps, X[-1][np.newaxis, :, :]).flatten()"
   ]
  },
  {
   "cell_type": "code",
   "execution_count": null,
   "id": "add3a4b8-2a18-4913-af80-b123d48d6604",
   "metadata": {},
   "outputs": [],
   "source": [
    "plt.plot(y)\n",
    "# create an empty array with the forecast values at the end\n",
    "forecast_array = np.zeros(y.size + forecast.size)\n",
    "forecast_array[:] = np.inf\n",
    "forecast_array[-forecast.size:] = forecast\n",
    "plt.plot(forecast_array)"
   ]
  },
  {
   "cell_type": "code",
   "execution_count": null,
   "id": "04ecc0d2-f7c7-4eb4-bdff-8896232cf785",
   "metadata": {},
   "outputs": [],
   "source": []
  }
 ],
 "metadata": {
  "kernelspec": {
   "display_name": "Python 3 (ipykernel)",
   "language": "python",
   "name": "python3"
  },
  "language_info": {
   "codemirror_mode": {
    "name": "ipython",
    "version": 3
   },
   "file_extension": ".py",
   "mimetype": "text/x-python",
   "name": "python",
   "nbconvert_exporter": "python",
   "pygments_lexer": "ipython3",
   "version": "3.13.6"
  }
 },
 "nbformat": 4,
 "nbformat_minor": 5
}
