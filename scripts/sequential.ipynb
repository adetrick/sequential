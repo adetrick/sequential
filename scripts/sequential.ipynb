{
 "cells": [
  {
   "cell_type": "code",
   "execution_count": null,
   "id": "39ae0ec4-ecb0-4b6f-8bd5-6eb4533e61e8",
   "metadata": {},
   "outputs": [],
   "source": [
    "import numpy as np\n",
    "import pandas as pd\n",
    "import matplotlib.pyplot as plt\n",
    "from sequential.models import NeuralNet\n",
    "from sequential.layers import *\n",
    "from sequential.preprocessing import preprocessing\n",
    "from sequential.metrics import mean_absolute_error"
   ]
  },
  {
   "cell_type": "markdown",
   "id": "fbeab118-8426-44dc-b8ae-f3dae09c33ae",
   "metadata": {},
   "source": [
    "### Load data"
   ]
  },
  {
   "cell_type": "code",
   "execution_count": null,
   "id": "d9a6e282-5b8f-4d72-b052-45cdf1a1000e",
   "metadata": {},
   "outputs": [],
   "source": [
    "df = pd.read_csv('../data/AirPassengers.csv')\n",
    "df['Date'] = pd.to_datetime(df['Date'])\n",
    "df.set_index('Date', inplace=True)"
   ]
  },
  {
   "cell_type": "markdown",
   "id": "25dc03e8-eb5d-49a6-8b61-459deabfa976",
   "metadata": {},
   "source": [
    "### Preprocessing"
   ]
  },
  {
   "cell_type": "code",
   "execution_count": null,
   "id": "41485d44-592a-4bb0-9231-ed9dc4a1fd49",
   "metadata": {},
   "outputs": [],
   "source": [
    "val_len = 12 # number of data points to reserve for validation\n",
    "time_steps = 36 # number of time steps in each training sequence\n",
    "target_time_steps = 12 # number of time steps to predict\n",
    "\n",
    "X = df.to_numpy()\n",
    "X_orig = X\n",
    "\n",
    "# scale and turn X into sequences \n",
    "X, X_train, X_test, y_train, y_test, scaler = preprocessing(X, val_len, time_steps, target_time_steps)\n",
    "\n",
    "# scale y (target variable) for plotting alongside scaled forecasts\n",
    "y = scaler.transform(X_orig)[:, 0].flatten()\n",
    "\n",
    "# print the training data shape: (num_sequences, time_steps, num_features)\n",
    "X_train.shape, y_train.shape"
   ]
  },
  {
   "cell_type": "markdown",
   "id": "c151cef4-819d-418f-a243-554f7d9252d8",
   "metadata": {},
   "source": [
    "### Model fit"
   ]
  },
  {
   "cell_type": "raw",
   "id": "41cc3f72-839a-43a0-a8c2-85a355a12409",
   "metadata": {},
   "source": [
    "'''\n",
    "Example layer stacks\n",
    "--------------------\n",
    "\n",
    "Feed-forward:\n",
    "\n",
    "layers = [\n",
    "    Dense(48, activation=\"relu\", relu_alpha=.01),\n",
    "    Dense(24, activation='relu', relu_alpha=.01),\n",
    "    Dense(1, activation=None, use_bias=False),\n",
    "]\n",
    "\n",
    "RNN:\n",
    "\n",
    "layers = [\n",
    "    RNN(64, stateful=False),\n",
    "    RNN(12, stateful=False),\n",
    "    Dense(1, activation=None, use_bias=False),\n",
    "]\n",
    "\n",
    "LSTM:\n",
    "\n",
    "layers = [\n",
    "    LSTM(54, stateful=True),\n",
    "    Dense(18, activation='relu', relu_alpha=.01),\n",
    "    Dense(1, activation=None, use_bias=False),\n",
    "]\n",
    "\n",
    "'''"
   ]
  },
  {
   "cell_type": "code",
   "execution_count": null,
   "id": "17f949b7-72b5-4709-aa28-ad133d672dae",
   "metadata": {},
   "outputs": [],
   "source": [
    "%%time\n",
    "\n",
    "# set a random seed for repeatable results\n",
    "# np.random.seed(7)\n",
    "\n",
    "layers = [\n",
    "    Dense(48, activation=\"relu\", relu_alpha=.01),\n",
    "    Dense(24, activation='relu', relu_alpha=.01),\n",
    "    Dense(1, activation=None, use_bias=False),\n",
    "]\n",
    "\n",
    "optimizer = 'adam'\n",
    "optimizer_args = {'alpha': .001}\n",
    "\n",
    "model = NeuralNet(layers, optimizer=optimizer, optimizer_args=optimizer_args, loss='mae')\n",
    "\n",
    "fitted_vals, loss = model.fit(X_train, y_train, epochs=2000, batch_size=None, verbose_rate=100)"
   ]
  },
  {
   "cell_type": "markdown",
   "id": "d4fdcf80-f294-418c-99c1-9e14370959f6",
   "metadata": {},
   "source": [
    "### Fitted values plot"
   ]
  },
  {
   "cell_type": "code",
   "execution_count": null,
   "id": "549d276a-58e9-46c0-97f6-79abb6d5b9b4",
   "metadata": {},
   "outputs": [],
   "source": [
    "plt.plot(y_train.flatten())\n",
    "plt.plot(fitted_vals.flatten())\n",
    "print('Fit MAE: ', mean_absolute_error(y_train.flatten(), fitted_vals.flatten()))"
   ]
  },
  {
   "cell_type": "markdown",
   "id": "1c7c655e-d600-422e-9d0e-7e0521902808",
   "metadata": {},
   "source": [
    "### Validation forecast"
   ]
  },
  {
   "cell_type": "code",
   "execution_count": null,
   "id": "3d57d47e-8f87-4e43-a977-281bd2dea716",
   "metadata": {},
   "outputs": [],
   "source": [
    "forecast_steps = val_len\n",
    "val_forecast = model.get_forecast(forecast_steps, X_test).flatten()\n",
    "val_forecast"
   ]
  },
  {
   "cell_type": "code",
   "execution_count": null,
   "id": "9f0701f2-24cd-4169-9766-a167e689ece8",
   "metadata": {},
   "outputs": [],
   "source": [
    "plt.plot(y)\n",
    "forecast_len = len(val_forecast)\n",
    "# create an empty array with the forecast values at the end\n",
    "forecast_array = np.zeros(len(y))\n",
    "forecast_array[:] = np.inf\n",
    "forecast_array[-forecast_len:] = val_forecast\n",
    "plt.plot(forecast_array)\n",
    "\n",
    "print('MAE:', mean_absolute_error(y_test, val_forecast[:val_len]))"
   ]
  },
  {
   "cell_type": "code",
   "execution_count": null,
   "id": "eea6a034-db7b-4e87-90d8-1b928961a9c5",
   "metadata": {},
   "outputs": [],
   "source": [
    "plt.plot(y_test)\n",
    "plt.plot(val_forecast[:val_len])\n",
    "print('MAE:', mean_absolute_error(y_test, val_forecast[:val_len]))"
   ]
  },
  {
   "cell_type": "markdown",
   "id": "cb01bfb5-eb81-4b8f-9b08-6ee524375f61",
   "metadata": {},
   "source": [
    "### Forecast beyond historical data"
   ]
  },
  {
   "cell_type": "code",
   "execution_count": null,
   "id": "b980dc89-1a1b-4ba6-adcd-108592842782",
   "metadata": {},
   "outputs": [],
   "source": [
    "forecast = model.get_forecast(forecast_steps, X[-1][np.newaxis, :, :]).flatten()"
   ]
  },
  {
   "cell_type": "code",
   "execution_count": null,
   "id": "1937e544-7dd5-4e64-a492-4bab0a8c5f9b",
   "metadata": {},
   "outputs": [],
   "source": [
    "plt.plot(y)\n",
    "# create an empty array with the forecast values at the end\n",
    "forecast_array = np.zeros(y.size + forecast.size)\n",
    "forecast_array[:] = np.inf\n",
    "forecast_array[-forecast.size:] = forecast\n",
    "plt.plot(forecast_array)"
   ]
  },
  {
   "cell_type": "code",
   "execution_count": null,
   "id": "f7dc0704-b87e-41e4-a9b4-3b4e6b550a86",
   "metadata": {},
   "outputs": [],
   "source": []
  },
  {
   "cell_type": "code",
   "execution_count": null,
   "id": "ef7c44a2-51cc-49c7-9d28-3af4c6e474f3",
   "metadata": {},
   "outputs": [],
   "source": []
  }
 ],
 "metadata": {
  "kernelspec": {
   "display_name": "Python 3 (ipykernel)",
   "language": "python",
   "name": "python3"
  },
  "language_info": {
   "codemirror_mode": {
    "name": "ipython",
    "version": 3
   },
   "file_extension": ".py",
   "mimetype": "text/x-python",
   "name": "python",
   "nbconvert_exporter": "python",
   "pygments_lexer": "ipython3",
   "version": "3.13.6"
  }
 },
 "nbformat": 4,
 "nbformat_minor": 5
}
